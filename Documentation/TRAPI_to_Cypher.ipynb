{
 "cells": [
  {
   "cell_type": "code",
   "execution_count": 4,
   "id": "d988eebd",
   "metadata": {},
   "outputs": [],
   "source": [
    "from reasoner.cypher import get_query"
   ]
  },
  {
   "cell_type": "markdown",
   "id": "f434e755",
   "metadata": {},
   "source": [
    "## Predicates"
   ]
  },
  {
   "cell_type": "markdown",
   "id": "56e26167",
   "metadata": {},
   "source": [
    "This library converts TRAPI into cypher.  In this process, it takes into account biolink model's predicates:"
   ]
  },
  {
   "cell_type": "code",
   "execution_count": 5,
   "id": "97c89ec4",
   "metadata": {},
   "outputs": [],
   "source": [
    "qg={\n",
    "  \"nodes\": {\n",
    "    \"n0\": {\n",
    "      \"category\": [\n",
    "        \"biolink:ChemicalSubstance\"\n",
    "      ],\n",
    "      \"name\": \"Chemical Substance\"\n",
    "    },\n",
    "    \"n1\": {\n",
    "      \"name\": \"RHOBTB2\",\n",
    "      \"id\": \"NCBIGene:23221\"\n",
    "    }\n",
    "  },\n",
    "  \"edges\": {\n",
    "    \"e0\": {\n",
    "      \"subject\": \"n0\",\n",
    "      \"object\": \"n1\",\n",
    "      \"predicate\": [\n",
    "        \"biolink:affects_expression_of\"\n",
    "      ]\n",
    "    }\n",
    "  }\n",
    "}"
   ]
  },
  {
   "cell_type": "code",
   "execution_count": 6,
   "id": "43c67926",
   "metadata": {},
   "outputs": [
    {
     "data": {
      "text/plain": [
       "'MATCH (`n0`:`biolink:ChemicalSubstance`)-[`e0`:`biolink:affects_expression_of`|`biolink:increases_expression_of`|`biolink:decreases_expression_of`]->(`n1` {`id`: \"NCBIGene:23221\"}) WITH {node_bindings: {n0: (CASE WHEN n0 IS NOT NULL THEN [{id: n0.id}] ELSE [] END), n1: (CASE WHEN n1 IS NOT NULL THEN [{id: n1.id}] ELSE [] END)}, edge_bindings: {e0: [ei IN collect(DISTINCT `e0`.id) WHERE ei IS NOT null | {id: ei}]}} AS result, {nodes: collect(DISTINCT `n0`) + collect(DISTINCT `n1`), edges: collect(DISTINCT `e0`)} AS knowledge_graph UNWIND knowledge_graph.nodes AS knode UNWIND knowledge_graph.edges AS kedge WITH collect(DISTINCT result) AS results, {nodes: apoc.map.fromLists([n IN collect(DISTINCT knode) | n.id], [n IN collect(DISTINCT knode) | {category: labels(n), name: n.name, attributes: [key in apoc.coll.subtract(keys(n), [\"id\", \"category\"]) | {name: key, type: COALESCE({publications: \"EDAM:data_0971\"}[key], \"NA\"), value: n[key]}]}]), edges: apoc.map.fromLists([e IN collect(DISTINCT kedge) | e.id], [e IN collect(DISTINCT kedge) | {predicate: type(e), subject: startNode(e).id, object: endNode(e).id, attributes: [key in apoc.coll.subtract(keys(e), [\"id\", \"predicate\"]) | {name: key, type: COALESCE({publications: \"EDAM:data_0971\"}[key], \"NA\"), value: e[key]}]}])} AS knowledge_graph RETURN results, knowledge_graph'"
      ]
     },
     "execution_count": 6,
     "metadata": {},
     "output_type": "execute_result"
    }
   ],
   "source": [
    "get_query(qg)"
   ]
  },
  {
   "cell_type": "markdown",
   "id": "f16588f5",
   "metadata": {},
   "source": [
    "## Categories"
   ]
  },
  {
   "cell_type": "markdown",
   "id": "fa70c6e6",
   "metadata": {},
   "source": [
    "Note that it doesn't do anything with categories.  Here we are making n0 a Named Thing as opposed to a Chemical Substance, and the cypher query doesn't do any subsetting.  It assumes that a ChemicalSubstance node in the underlying graph will also have a NamedThing label."
   ]
  },
  {
   "cell_type": "code",
   "execution_count": 7,
   "id": "bbd50f6c",
   "metadata": {},
   "outputs": [],
   "source": [
    "qg={\n",
    "  \"nodes\": {\n",
    "    \"n0\": {\n",
    "      \"category\": [\n",
    "        \"biolink:NamedThing\"\n",
    "      ],\n",
    "    },\n",
    "    \"n1\": {\n",
    "      \"name\": \"RHOBTB2\",\n",
    "      \"id\": \"NCBIGene:23221\"\n",
    "    }\n",
    "  },\n",
    "  \"edges\": {\n",
    "    \"e0\": {\n",
    "      \"subject\": \"n0\",\n",
    "      \"object\": \"n1\",\n",
    "      \"predicate\": [\n",
    "        \"biolink:affects_expression_of\"\n",
    "      ]\n",
    "    }\n",
    "  }\n",
    "}"
   ]
  },
  {
   "cell_type": "code",
   "execution_count": 8,
   "id": "6dafa923",
   "metadata": {},
   "outputs": [
    {
     "data": {
      "text/plain": [
       "'MATCH (`n0`:`biolink:NamedThing`)-[`e0`:`biolink:affects_expression_of`|`biolink:increases_expression_of`|`biolink:decreases_expression_of`]->(`n1` {`id`: \"NCBIGene:23221\"}) WITH {node_bindings: {n0: (CASE WHEN n0 IS NOT NULL THEN [{id: n0.id}] ELSE [] END), n1: (CASE WHEN n1 IS NOT NULL THEN [{id: n1.id}] ELSE [] END)}, edge_bindings: {e0: [ei IN collect(DISTINCT `e0`.id) WHERE ei IS NOT null | {id: ei}]}} AS result, {nodes: collect(DISTINCT `n0`) + collect(DISTINCT `n1`), edges: collect(DISTINCT `e0`)} AS knowledge_graph UNWIND knowledge_graph.nodes AS knode UNWIND knowledge_graph.edges AS kedge WITH collect(DISTINCT result) AS results, {nodes: apoc.map.fromLists([n IN collect(DISTINCT knode) | n.id], [n IN collect(DISTINCT knode) | {category: labels(n), name: n.name, attributes: [key in apoc.coll.subtract(keys(n), [\"id\", \"category\"]) | {name: key, type: COALESCE({publications: \"EDAM:data_0971\"}[key], \"NA\"), value: n[key]}]}]), edges: apoc.map.fromLists([e IN collect(DISTINCT kedge) | e.id], [e IN collect(DISTINCT kedge) | {predicate: type(e), subject: startNode(e).id, object: endNode(e).id, attributes: [key in apoc.coll.subtract(keys(e), [\"id\", \"predicate\"]) | {name: key, type: COALESCE({publications: \"EDAM:data_0971\"}[key], \"NA\"), value: e[key]}]}])} AS knowledge_graph RETURN results, knowledge_graph'"
      ]
     },
     "execution_count": 8,
     "metadata": {},
     "output_type": "execute_result"
    }
   ],
   "source": [
    "get_query(qg)"
   ]
  },
  {
   "cell_type": "code",
   "execution_count": null,
   "id": "06e4e494",
   "metadata": {},
   "outputs": [],
   "source": []
  }
 ],
 "metadata": {
  "kernelspec": {
   "display_name": "Python 3",
   "language": "python",
   "name": "python3"
  },
  "language_info": {
   "codemirror_mode": {
    "name": "ipython",
    "version": 3
   },
   "file_extension": ".py",
   "mimetype": "text/x-python",
   "name": "python",
   "nbconvert_exporter": "python",
   "pygments_lexer": "ipython3",
   "version": "3.9.4"
  }
 },
 "nbformat": 4,
 "nbformat_minor": 5
}
